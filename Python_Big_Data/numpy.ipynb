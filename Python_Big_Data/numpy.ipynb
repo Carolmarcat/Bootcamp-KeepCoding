{
 "cells": [
  {
   "cell_type": "markdown",
   "metadata": {},
   "source": [
    "# Python numpy"
   ]
  },
  {
   "cell_type": "code",
   "execution_count": 1,
   "metadata": {},
   "outputs": [
    {
     "name": "stdout",
     "output_type": "stream",
     "text": [
      "[1 2 3 4 5]\n"
     ]
    }
   ],
   "source": [
    "'''\n",
    "Lo primero es comprobar que tenemos instalado nmumpy y que lo podemos importar correctamente.\n",
    "La ejecución de este bloque de código nos debe mostrar el array [1,2,3,4,5]\n",
    "'''\n",
    "import numpy as np\n",
    "\n",
    "# Definición de un nuevo 'ndarray', de ahora en adelante lo llamaremos simplemente 'array'\n",
    "test = np.array([1, 2, 3, 4, 5])\n",
    "print(test)"
   ]
  },
  {
   "cell_type": "markdown",
   "metadata": {},
   "source": [
    "### Primeros pasos"
   ]
  },
  {
   "cell_type": "code",
   "execution_count": null,
   "metadata": {},
   "outputs": [
    {
     "name": "stdout",
     "output_type": "stream",
     "text": [
      "[1 2 3 4 5]\n"
     ]
    }
   ],
   "source": [
    "# Para iniciar una array de numpy llamamos a la función np.array()\n",
    "a = np.array([1,2,3,4,5]) #siempre los valores tienen que ser del mismo tipo de dato\n",
    "print(a)\n"
   ]
  },
  {
   "cell_type": "code",
   "execution_count": null,
   "metadata": {},
   "outputs": [
    {
     "data": {
      "text/plain": [
       "array([[1, 2, 3],\n",
       "       [4, 5, 6]])"
      ]
     },
     "execution_count": 5,
     "metadata": {},
     "output_type": "execute_result"
    }
   ],
   "source": [
    "# Para inicializar una array de dim 2 podemos pasar una lista de listas\n",
    "b = np.array([[1,2,3], [4,5,6]])\n",
    "b"
   ]
  },
  {
   "cell_type": "code",
   "execution_count": null,
   "metadata": {},
   "outputs": [
    {
     "data": {
      "text/plain": [
       "array([[[1, 2, 3],\n",
       "        [4, 5, 6]],\n",
       "\n",
       "       [[1, 2, 3],\n",
       "        [4, 5, 6]]])"
      ]
     },
     "execution_count": 6,
     "metadata": {},
     "output_type": "execute_result"
    }
   ],
   "source": [
    "# Podemos anidar más listas para crear arrays de dim 3 o mas\n",
    "c = np.array([\n",
    "    [\n",
    "        [1,2,3], [4,5,6]\n",
    "        ], [\n",
    "            [1,2,3], [4,5,6]\n",
    "            ]\n",
    "        \n",
    "        ])\n",
    "c"
   ]
  },
  {
   "cell_type": "code",
   "execution_count": null,
   "metadata": {},
   "outputs": [
    {
     "data": {
      "text/plain": [
       "1"
      ]
     },
     "execution_count": 7,
     "metadata": {},
     "output_type": "execute_result"
    }
   ],
   "source": [
    "# Obtener la dimensión de un array\n",
    "a.ndim"
   ]
  },
  {
   "cell_type": "code",
   "execution_count": null,
   "metadata": {},
   "outputs": [
    {
     "data": {
      "text/plain": [
       "2"
      ]
     },
     "execution_count": 8,
     "metadata": {},
     "output_type": "execute_result"
    }
   ],
   "source": [
    "# Obtener la dimensión del array b\n",
    "b.ndim  "
   ]
  },
  {
   "cell_type": "code",
   "execution_count": null,
   "metadata": {},
   "outputs": [
    {
     "data": {
      "text/plain": [
       "3"
      ]
     },
     "execution_count": 9,
     "metadata": {},
     "output_type": "execute_result"
    }
   ],
   "source": [
    "# Obtener la dimensión del array c\n",
    "c.ndim"
   ]
  },
  {
   "cell_type": "code",
   "execution_count": null,
   "metadata": {},
   "outputs": [
    {
     "name": "stdout",
     "output_type": "stream",
     "text": [
      "[[[1 4 7]\n",
      "  [2 9 7]\n",
      "  [1 3 0]\n",
      "  [9 6 9]]\n",
      "\n",
      " [[2 3 4]\n",
      "  [4 5 5]\n",
      "  [1 2 2]\n",
      "  [9 3 8]]]\n",
      "3\n"
     ]
    }
   ],
   "source": [
    "# vamos a crear un array de 3 dimensiones\n",
    "d = np.array(\n",
    "    [[[1,4,7], [2,9,7], [1,3,0], [9,6,9]],\n",
    "    [[2,3,4], [4,5,5], [1,2,2], [9,3,8]]]\n",
    "\n",
    "    \n",
    "    \n",
    "    )\n",
    "print(d)\n",
    "print(d.ndim)"
   ]
  },
  {
   "cell_type": "code",
   "execution_count": null,
   "metadata": {},
   "outputs": [
    {
     "name": "stdout",
     "output_type": "stream",
     "text": [
      "[1 2 3 4 5]\n",
      "(5,)\n"
     ]
    }
   ],
   "source": [
    "# El shape de un array es una tupla que indica el tamaño de cada dimensión\n",
    "print(a)\n",
    "print(a.shape)\n"
   ]
  },
  {
   "cell_type": "code",
   "execution_count": null,
   "metadata": {},
   "outputs": [
    {
     "name": "stdout",
     "output_type": "stream",
     "text": [
      "[[1 2 3]\n",
      " [4 5 6]]\n",
      "(2, 3)\n"
     ]
    }
   ],
   "source": [
    "print(b)\n",
    "print(b.shape) # 2 dimension, cada lista tiene 3 elementos"
   ]
  },
  {
   "cell_type": "code",
   "execution_count": null,
   "metadata": {},
   "outputs": [
    {
     "name": "stdout",
     "output_type": "stream",
     "text": [
      "[[[1 2 3]\n",
      "  [4 5 6]]\n",
      "\n",
      " [[1 2 3]\n",
      "  [4 5 6]]]\n",
      "(2, 2, 3)\n"
     ]
    }
   ],
   "source": [
    "print(c)\n",
    "print(c.shape) # primer corchete engloba 2 elementos, segundo corchete tiene 2 elementos (todos los elementos de la dimension tiene que se los mismos), \n",
    "#dentro de cada elemento son 3 numeros"
   ]
  },
  {
   "cell_type": "code",
   "execution_count": null,
   "metadata": {},
   "outputs": [
    {
     "name": "stdout",
     "output_type": "stream",
     "text": [
      "[[[1 4 7]\n",
      "  [2 9 7]\n",
      "  [1 3 0]\n",
      "  [9 6 9]]\n",
      "\n",
      " [[2 3 4]\n",
      "  [4 5 5]\n",
      "  [1 2 2]\n",
      "  [9 3 8]]]\n",
      "(2, 4, 3)\n"
     ]
    }
   ],
   "source": [
    "print(d)\n",
    "print(d.shape) # 1º corchete 2, 2º corchete tiene 4 listas, 3º cada lista tiene 3 numeros"
   ]
  },
  {
   "cell_type": "code",
   "execution_count": null,
   "metadata": {},
   "outputs": [
    {
     "data": {
      "text/plain": [
       "dtype('int32')"
      ]
     },
     "execution_count": 15,
     "metadata": {},
     "output_type": "execute_result"
    }
   ],
   "source": [
    "# Obtener el tipo de dato de un array\n",
    "a.dtype #int64 = 8 bits, 64 bits"
   ]
  },
  {
   "cell_type": "markdown",
   "metadata": {},
   "source": [
    "Representación de un byte en binario -> 1010\n",
    "\n",
    "El tipo int16 puede representar un número entero de 16 bits (2 bytes)(-32.768 a 32.767)\n",
    "El tipo int32 puede representar un número entero de 32 bits (4 bytes)(-2.147.483.648 a 2.147.483.647)\n",
    "El tipo int64 puede representar un número entero de 64 bits (8 bytes)(-9.223.372.036.854.775.808 a 92.23.372.036.854.775.807)\n",
    "\n",
    "El tipo float32 puede representar un número real de 32 bits (4 bytes)(-3.4028235e+38 a 3.4028235e+38)\n",
    "El tipo float64 puede representar un número real de 64 bits (8 bytes)(-1.7976931348623157e+308 a 1.7976931348623157e+308)"
   ]
  },
  {
   "cell_type": "code",
   "execution_count": null,
   "metadata": {},
   "outputs": [
    {
     "name": "stdout",
     "output_type": "stream",
     "text": [
      "[[1 2 3]\n",
      " [4 5 6]]\n",
      "int16\n"
     ]
    }
   ],
   "source": [
    "'''\n",
    "Define un array de dim 2 y de tipo int16\n",
    "'''\n",
    "a16 = np.array([[1,2,3],[4,5,6]], dtype = np.int16)\n",
    "print(a16)\n",
    "print(a16.dtype)"
   ]
  },
  {
   "cell_type": "code",
   "execution_count": null,
   "metadata": {},
   "outputs": [
    {
     "name": "stdout",
     "output_type": "stream",
     "text": [
      "[[    1     2     3]\n",
      " [    4     5 64000]]\n"
     ]
    }
   ],
   "source": [
    "# EL tipo de dato no es capaz de manejar valores fuera de su rango ( 32,768) por lo que se produce un overflow e introduce basura\n",
    "b16 = np.array([[1,2,3], [4,5,64000]], dtype = np.int32)\n",
    "print(b16)"
   ]
  },
  {
   "cell_type": "code",
   "execution_count": null,
   "metadata": {},
   "outputs": [
    {
     "name": "stdout",
     "output_type": "stream",
     "text": [
      "int16\n",
      "[[1 2 3]\n",
      " [4 5 6]]\n",
      "int32\n",
      "[[1 2 3]\n",
      " [4 5 6]]\n"
     ]
    }
   ],
   "source": [
    "# Redifiinar el tipo de un array\n",
    "'''\n",
    "Convertir el array a16 a tipo int32\n",
    "'''\n",
    "a32 = a16.astype(np.int32)\n",
    "print(a16.dtype)\n",
    "print(a16)\n",
    "print(a32.dtype)\n",
    "print(a32)"
   ]
  },
  {
   "cell_type": "code",
   "execution_count": null,
   "metadata": {},
   "outputs": [
    {
     "name": "stdout",
     "output_type": "stream",
     "text": [
      "Array a16\n",
      " [[1 2 3]\n",
      " [4 5 6]]\n",
      "2 bytes\n",
      "Elementos array a16: 6\n",
      "Tamaño de cada elemento delarray a16: 2 bytes\n",
      "Tamaño total del array a16: 12 bytes\n"
     ]
    }
   ],
   "source": [
    "# Saber cuanto ocupa en memoria un array\n",
    "# utilizando el array de ejemplo anterior a16\n",
    "\n",
    "'''\n",
    "Obtener cuanto ocupa en memoria un elemento del array a16\n",
    "'''\n",
    "print('Array a16\\n', a16)\n",
    "print(a16.itemsize, 'bytes')\n",
    "\n",
    "# numero de elemento que tiene el array\n",
    "print('Elementos array a16:', a16.size)\n",
    "print('Tamaño de cada elemento delarray a16:', a16.itemsize, 'bytes')\n",
    "print('Tamaño total del array a16:', a16.size * a16.itemsize, 'bytes' )"
   ]
  },
  {
   "cell_type": "code",
   "execution_count": null,
   "metadata": {},
   "outputs": [
    {
     "name": "stdout",
     "output_type": "stream",
     "text": [
      "Array a32\n",
      " [[1 2 3]\n",
      " [4 5 6]]\n",
      "Elementos array a16: 6\n",
      "Tamaño de cada elemento delarray a16: 4 bytes\n",
      "Tamaño total del array a16: 24 bytes\n"
     ]
    }
   ],
   "source": [
    "'''\n",
    "Obtener cuanto ocupa en memoria un elemento del array a32\n",
    "'''\n",
    "print('Array a32\\n', a32)\n",
    "\n",
    "\n",
    "# numero de elemento que tiene el array\n",
    "print('Elementos array a16:', a32.size)\n",
    "print('Tamaño de cada elemento delarray a16:', a32.itemsize, 'bytes')\n",
    "print('Tamaño total del array a16:', a32.size * a32.itemsize, 'bytes' )"
   ]
  },
  {
   "cell_type": "code",
   "execution_count": null,
   "metadata": {},
   "outputs": [
    {
     "name": "stdout",
     "output_type": "stream",
     "text": [
      "[0, 1, 2, 3, 4, 5, 6, 7, 8, 9]\n",
      "0\n",
      "1\n",
      "2\n",
      "3\n",
      "4\n",
      "5\n",
      "6\n",
      "7\n",
      "8\n",
      "9\n"
     ]
    }
   ],
   "source": [
    "# Otra forma de inicializar un array (range)\n",
    "# ejemplo de range\n",
    "ejemplo1 = list(range(10))\n",
    "print(ejemplo1)\n",
    "\n",
    "for i in range(10):\n",
    "    print(i)"
   ]
  },
  {
   "cell_type": "code",
   "execution_count": null,
   "metadata": {},
   "outputs": [
    {
     "name": "stdout",
     "output_type": "stream",
     "text": [
      "[0 1 2 3 4 5 6 7 8 9]\n"
     ]
    }
   ],
   "source": [
    "# Inicializar array con range. El array debe tener 10 elementos\n",
    "\n",
    "a = np.array(range(10))\n",
    "print(a)"
   ]
  },
  {
   "cell_type": "code",
   "execution_count": null,
   "metadata": {},
   "outputs": [
    {
     "name": "stdout",
     "output_type": "stream",
     "text": [
      "[0 1 2 3 4 5 6 7 8 9]\n"
     ]
    }
   ],
   "source": [
    "''' \n",
    "Inicializa un array con arange. El array debe tener 10 elementos\n",
    "'''\n",
    "b = np.arange(10) # solo se puede hacer 1 dimensión\n",
    "print(b)"
   ]
  },
  {
   "cell_type": "code",
   "execution_count": null,
   "metadata": {},
   "outputs": [
    {
     "name": "stdout",
     "output_type": "stream",
     "text": [
      "[10 12 14 16 18]\n"
     ]
    }
   ],
   "source": [
    "''' \n",
    "Inicializa un array con arange Desde 10 hasta 10 con paso 2\n",
    "'''\n",
    "c = np.arange(10,20,2)\n",
    "print(c)"
   ]
  },
  {
   "cell_type": "markdown",
   "metadata": {},
   "source": [
    "Ejercicios"
   ]
  },
  {
   "cell_type": "code",
   "execution_count": null,
   "metadata": {},
   "outputs": [
    {
     "name": "stdout",
     "output_type": "stream",
     "text": [
      "[ 1  2  3  4  5  6  7  8  9 10]\n",
      "1\n",
      "(10,)\n"
     ]
    }
   ],
   "source": [
    "'''\n",
    "Define el array 'a' del 1 al 10\n",
    "'''\n",
    "a = np.arange(1,11)\n",
    "print(a)\n",
    "'''\n",
    "Imprime la dimension del array y el shape\n",
    "'''\n",
    "print(a.ndim)\n",
    "print(a.shape)"
   ]
  },
  {
   "cell_type": "code",
   "execution_count": null,
   "metadata": {},
   "outputs": [
    {
     "name": "stdout",
     "output_type": "stream",
     "text": [
      "[[1 2 3]\n",
      " [4 5 6]]\n",
      "(2, 3)\n"
     ]
    }
   ],
   "source": [
    "''' \n",
    "Define de un array 'b' de dimensiones 2x3 a partir de listas anidadas\n",
    "'''\n",
    "\n",
    "b = np.array ([[1,2,3], [4,5,6]])\n",
    "print(b)\n",
    "print(b.shape)\n"
   ]
  },
  {
   "cell_type": "code",
   "execution_count": null,
   "metadata": {},
   "outputs": [
    {
     "name": "stdout",
     "output_type": "stream",
     "text": [
      "[[[ 1  2  3]\n",
      "  [ 4  5  6]]\n",
      "\n",
      " [[ 7  8  9]\n",
      "  [10 11 12]]]\n",
      "12\n",
      "(2, 2, 3)\n"
     ]
    }
   ],
   "source": [
    "'''\n",
    "Define un array 'c'  de dim 2x2x3 a partir de una lista de listas anidadas \n",
    "'''\n",
    "c = np.array([\n",
    "    [[1,2,3],[4,5,6]]\n",
    "    ,[[7,8,9],[10,11,12]]\n",
    "    ])\n",
    "print(c)\n",
    "'''\n",
    "Imprime el número total de elementos del array y el shape\n",
    "'''\n",
    "print(c.size)\n",
    "print(c.shape)"
   ]
  },
  {
   "cell_type": "markdown",
   "metadata": {},
   "source": [
    "## Accediendo y Modificando elementos de un array"
   ]
  },
  {
   "cell_type": "code",
   "execution_count": null,
   "metadata": {},
   "outputs": [
    {
     "name": "stdout",
     "output_type": "stream",
     "text": [
      "[[1 2 3 8 7]\n",
      " [4 5 6 2 9]]\n"
     ]
    }
   ],
   "source": [
    "# Array de 2x5\n",
    "f = np.array([[1,2,3,8,7],[4,5,6,2,9]])\n",
    "print(f)"
   ]
  },
  {
   "cell_type": "markdown",
   "metadata": {},
   "source": [
    "Obtener un elemento de un array"
   ]
  },
  {
   "cell_type": "code",
   "execution_count": null,
   "metadata": {},
   "outputs": [
    {
     "name": "stdout",
     "output_type": "stream",
     "text": [
      "6\n",
      "8\n"
     ]
    }
   ],
   "source": [
    "# Obtener un elemento concreto de un array [rows,columns]\n",
    "# obtener el elemento 6 del array f\n",
    "print(f[1,2])\n",
    "# obtener el elemento 8 del array f\n",
    "print(f[0,3])"
   ]
  },
  {
   "cell_type": "markdown",
   "metadata": {},
   "source": [
    "Obtener una fila completa de un array"
   ]
  },
  {
   "cell_type": "code",
   "execution_count": null,
   "metadata": {},
   "outputs": [
    {
     "name": "stdout",
     "output_type": "stream",
     "text": [
      "[[1 2 3 8 7]\n",
      " [4 5 6 2 9]]\n"
     ]
    },
    {
     "data": {
      "text/plain": [
       "array([4, 5, 6, 2, 9])"
      ]
     },
     "execution_count": 30,
     "metadata": {},
     "output_type": "execute_result"
    }
   ],
   "source": [
    "# Para obtener una fila completa utilizamos la notación ':' como en la listas\n",
    "ejemplo = [1,2,3,4,5,6,7,8]\n",
    "ejemplo[2:] #hasta el final\n",
    "print(f)\n",
    "f[1,:]"
   ]
  },
  {
   "cell_type": "markdown",
   "metadata": {},
   "source": [
    "Obtener una columna completa de un array"
   ]
  },
  {
   "cell_type": "code",
   "execution_count": null,
   "metadata": {},
   "outputs": [
    {
     "name": "stdout",
     "output_type": "stream",
     "text": [
      "[[1 2 3 8 7]\n",
      " [4 5 6 2 9]\n",
      " [1 2 3 8 7]\n",
      " [4 5 6 2 9]]\n"
     ]
    },
    {
     "data": {
      "text/plain": [
       "array([3, 6, 3, 6])"
      ]
     },
     "execution_count": 31,
     "metadata": {},
     "output_type": "execute_result"
    }
   ],
   "source": [
    "# define un array 'f' de dimensiones 4x5\n",
    "# Obtener la columna 3 de array f\n",
    "f = np.array([[1,2,3,8,7],[4,5,6,2,9],[1,2,3,8,7],[4,5,6,2,9]])\n",
    "print(f)\n",
    "f[:,2]"
   ]
  },
  {
   "cell_type": "markdown",
   "metadata": {},
   "source": [
    "Otras formas de acceder a los elementos de un array"
   ]
  },
  {
   "cell_type": "code",
   "execution_count": null,
   "metadata": {},
   "outputs": [
    {
     "data": {
      "text/plain": [
       "array([2, 8])"
      ]
     },
     "execution_count": 32,
     "metadata": {},
     "output_type": "execute_result"
    }
   ],
   "source": [
    "# Para acceder de una forma un poco más avanzada se utiliza [inicio: final: paso]\n",
    "f[0,1:4:2]"
   ]
  },
  {
   "cell_type": "code",
   "execution_count": null,
   "metadata": {},
   "outputs": [
    {
     "data": {
      "text/plain": [
       "array([[1, 2, 3, 8, 7],\n",
       "       [1, 2, 3, 8, 7]])"
      ]
     },
     "execution_count": 33,
     "metadata": {},
     "output_type": "execute_result"
    }
   ],
   "source": [
    "# Obtener las filas pares\n",
    "f[::2,:]\n",
    "#f[filas, columnas]"
   ]
  },
  {
   "cell_type": "code",
   "execution_count": null,
   "metadata": {},
   "outputs": [
    {
     "name": "stdout",
     "output_type": "stream",
     "text": [
      "[[4 5 6 2 9]\n",
      " [1 2 3 8 7]\n",
      " [4 5 6 2 9]\n",
      " [1 2 3 8 7]]\n"
     ]
    }
   ],
   "source": [
    "# Recorrer con paso negativo\n",
    "f_invertido = f[::-1,:] # Invertir el array\n",
    "print(f_invertido)\n"
   ]
  },
  {
   "cell_type": "code",
   "execution_count": null,
   "metadata": {},
   "outputs": [
    {
     "name": "stdout",
     "output_type": "stream",
     "text": [
      "[[[ 1  2  3]\n",
      "  [ 4  5  6]\n",
      "  [ 7  8  9]]\n",
      "\n",
      " [[10 20 30]\n",
      "  [40 50 60]\n",
      "  [70 80 90]]]\n",
      "50\n",
      "[70 80 90]\n"
     ]
    }
   ],
   "source": [
    "# Definir un array de 3x3x2\n",
    "g = np.array([[[1,2,3],[4,5,6],[7,8,9]],[[10,20,30],[40,50,60],[70,80,90]]])\n",
    "print(g)\n",
    "#acceder elemento 50\n",
    "print(g[1,1,1])\n",
    "# acceder a la fila 2 del elemento 1\n",
    "print(g[1,2,:])"
   ]
  },
  {
   "cell_type": "markdown",
   "metadata": {},
   "source": [
    "Actualizar un elemento de un array"
   ]
  },
  {
   "cell_type": "code",
   "execution_count": null,
   "metadata": {},
   "outputs": [
    {
     "name": "stdout",
     "output_type": "stream",
     "text": [
      "[[[ 1  2  3]\n",
      "  [ 4  5  6]\n",
      "  [ 7  8  9]]\n",
      "\n",
      " [[10 20 30]\n",
      "  [40 50 60]\n",
      "  [70 80 90]]]\n",
      "\n",
      "[[[  1   2   3]\n",
      "  [  4   5   6]\n",
      "  [  7   8   9]]\n",
      "\n",
      " [[ 10  20  30]\n",
      "  [ 40 500  60]\n",
      "  [ 70  80  90]]]\n"
     ]
    }
   ],
   "source": [
    "# Podemos actualizar la información de un array igual que seleccionando un elemento e igulandolo con un nuevo valor\n",
    "# Para este ejemplo vamos a utilizar el array 'g' de 3x3x2\n",
    "h = np.array([[[1,2,3],[4,5,6],[7,8,9]],[[10,20,30],[40,50,60],[70,80,90]]])\n",
    "print(h)\n",
    "print()\n",
    "# Establecer el elemento 50 a 500\n",
    "h[1,1,1,] = 500\n",
    "\n",
    "print(h)\n"
   ]
  },
  {
   "cell_type": "code",
   "execution_count": null,
   "metadata": {},
   "outputs": [
    {
     "name": "stdout",
     "output_type": "stream",
     "text": [
      "[[[ 1  2  3]\n",
      "  [ 4  5  6]\n",
      "  [ 7  8  9]]\n",
      "\n",
      " [[10 20 30]\n",
      "  [40 50 60]\n",
      "  [70 80 90]]]\n",
      "\n",
      "[[[ 1  2  3]\n",
      "  [ 4  5  6]\n",
      "  [ 7  8  9]]\n",
      "\n",
      " [[ 0  0  0]\n",
      "  [40 50 60]\n",
      "  [70 80 90]]]\n",
      "\n",
      "[[[ 1  2  3]\n",
      "  [ 4  5  6]\n",
      "  [ 7  8  9]]\n",
      "\n",
      " [[ 1  2  3]\n",
      "  [40 50 60]\n",
      "  [70 80 90]]]\n"
     ]
    }
   ],
   "source": [
    "# Podemos actualizar una fila completa\n",
    "i = np.array([[[1,2,3],[4,5,6],[7,8,9]],[[10,20,30],[40,50,60],[70,80,90]]])\n",
    "print(i)\n",
    "print()\n",
    "\n",
    "# establecer la fila 0 del elemento 1 a 0\n",
    "i[1,0,:] = 0\n",
    "print(i)\n",
    "print()\n",
    "\n",
    "# establecer la fila 0 del elemento 1 a 1,2,3\n",
    "i[1,0,:] = [1,2,3]\n",
    "print(i)"
   ]
  },
  {
   "cell_type": "code",
   "execution_count": null,
   "metadata": {},
   "outputs": [
    {
     "name": "stdout",
     "output_type": "stream",
     "text": [
      "[[[ 1  2  3]\n",
      "  [ 4  5  6]\n",
      "  [ 7  8  9]]\n",
      "\n",
      " [[10 20 30]\n",
      "  [40 50 60]\n",
      "  [70 80 90]]]\n",
      "\n",
      "[[[ 1  2  0]\n",
      "  [ 4  5  0]\n",
      "  [ 7  8  0]]\n",
      "\n",
      " [[10 20  0]\n",
      "  [40 50  0]\n",
      "  [70 80  0]]]\n"
     ]
    }
   ],
   "source": [
    "# Definir un array de 3x3x2 \n",
    "j = np.array([[[1,2,3],[4,5,6],[7,8,9]],[[10,20,30],[40,50,60],[70,80,90]]])\n",
    "print(j)\n",
    "print()\n",
    "# Establecer la ultima columna de todos los elementos a 0\n",
    "j[:,:,2] = 0 # o j[:,:,-1]\n",
    "print(j)"
   ]
  },
  {
   "cell_type": "code",
   "execution_count": null,
   "metadata": {},
   "outputs": [
    {
     "name": "stdout",
     "output_type": "stream",
     "text": [
      "[[[ 1  2  3]\n",
      "  [ 4  5  6]\n",
      "  [ 7  8  9]]\n",
      "\n",
      " [[10 20 30]\n",
      "  [40 50 60]\n",
      "  [70 80 90]]]\n",
      "\n",
      "[[[ 1  2  1]\n",
      "  [ 4  5  2]\n",
      "  [ 7  8  3]]\n",
      "\n",
      " [[10 20  1]\n",
      "  [40 50  2]\n",
      "  [70 80  3]]]\n"
     ]
    }
   ],
   "source": [
    "# Definir un array de 3x3x2 \n",
    "k = np.array([[[1,2,3],[4,5,6],[7,8,9]],[[10,20,30],[40,50,60],[70,80,90]]])\n",
    "print(k)\n",
    "print()\n",
    "# Establecer la ultima columna de todos los elementos a 0\n",
    "k[:,:,2] = [1,2,3] # o k[:,:,-1]\n",
    "print(k)"
   ]
  },
  {
   "cell_type": "markdown",
   "metadata": {},
   "source": [
    "Ejercicios"
   ]
  },
  {
   "cell_type": "code",
   "execution_count": null,
   "metadata": {},
   "outputs": [
    {
     "name": "stdout",
     "output_type": "stream",
     "text": [
      "[4 7 5 9 0 6 8 8 8 6]\n"
     ]
    },
    {
     "data": {
      "text/plain": [
       "0"
      ]
     },
     "execution_count": 101,
     "metadata": {},
     "output_type": "execute_result"
    }
   ],
   "source": [
    "'''\n",
    "Define un array 's' de tamaño 10 y selecciona el valor de la posición 5\n",
    "'''\n",
    "s = np.random.randint(0,10, size= 10)\n",
    "print(s)\n",
    "s[4] # 23\n",
    "\n"
   ]
  },
  {
   "cell_type": "code",
   "execution_count": null,
   "metadata": {},
   "outputs": [
    {
     "name": "stdout",
     "output_type": "stream",
     "text": [
      "[4 7 5 9 5 6 8 8 8 6]\n"
     ]
    }
   ],
   "source": [
    "'''\n",
    "Sobre el array s, selecciona el valor 5\n",
    "'''\n",
    "\n",
    "s[4] = 5\n",
    "\n",
    "print(s)"
   ]
  },
  {
   "cell_type": "code",
   "execution_count": null,
   "metadata": {},
   "outputs": [
    {
     "name": "stdout",
     "output_type": "stream",
     "text": [
      "[86 48 22 31  3 88 74 87  8 82 40 92 28 32 55 13  4 63 54 14 61 65 98 72\n",
      " 18]\n"
     ]
    },
    {
     "data": {
      "text/plain": [
       "array([86, 48, 22, 88, 74,  8, 82, 40, 92, 28, 32,  4, 54, 14, 98, 72, 18])"
      ]
     },
     "execution_count": 108,
     "metadata": {},
     "output_type": "execute_result"
    }
   ],
   "source": [
    "'''\n",
    "Define el array 's' de tamaño 25 y selecciona los valores pares\n",
    "'''\n",
    "s = np.random.randint(0,100, size= 25)\n",
    "print(s)\n",
    "\n",
    "s[s%2==0]"
   ]
  },
  {
   "cell_type": "code",
   "execution_count": null,
   "metadata": {},
   "outputs": [
    {
     "name": "stdout",
     "output_type": "stream",
     "text": [
      "[70 83  5 84  5 74 88 96 67 53 49 95 93 72 70 52 89 82 43 82 99  8 17 57\n",
      " 58]\n"
     ]
    },
    {
     "data": {
      "text/plain": [
       "array([83,  5,  5, 67, 53, 49, 95, 93, 89, 43, 99, 17, 57])"
      ]
     },
     "execution_count": 109,
     "metadata": {},
     "output_type": "execute_result"
    }
   ],
   "source": [
    "'''\n",
    "Define el array 's' de tamaño 25 y selecciona los valores impares\n",
    "'''\n",
    "\n",
    "s = np.random.randint(0,100, size= 25)\n",
    "print(s)\n",
    "\n",
    "s[s%2!=0]"
   ]
  },
  {
   "cell_type": "code",
   "execution_count": null,
   "metadata": {},
   "outputs": [
    {
     "name": "stdout",
     "output_type": "stream",
     "text": [
      "[70 83  5 84  5 74 88 96 67 53 49 95 93 72 70 52 89 82 43 82 99  8 17 57\n",
      " 58]\n"
     ]
    },
    {
     "data": {
      "text/plain": [
       "58"
      ]
     },
     "execution_count": 113,
     "metadata": {},
     "output_type": "execute_result"
    }
   ],
   "source": [
    "'''\n",
    "Sobre el array s, selecciona el uĺltimo valor\n",
    "'''\n",
    "\n",
    "print(s)\n",
    "s[-1]"
   ]
  },
  {
   "cell_type": "code",
   "execution_count": null,
   "metadata": {},
   "outputs": [
    {
     "name": "stdout",
     "output_type": "stream",
     "text": [
      "[ 0 71  7 61 76 51 85 73 92 38 74 95 30 16 44 26 85 94 94 27]\n",
      "[27 94 94 85 26 44 16 30 95 74 38 92 73 85 51 76 61  7 71  0]\n"
     ]
    }
   ],
   "source": [
    "\"\"\"\n",
    "Define el array 's' de tamaño 20 e invierte el orden de los valores\n",
    "\"\"\"\n",
    "s = np.random.randint(0,100, size= 20)\n",
    "print(s)\n",
    "\n",
    "s_invertido = s[::-1]\n",
    "print(s_invertido)\n",
    "\n"
   ]
  },
  {
   "cell_type": "code",
   "execution_count": null,
   "metadata": {},
   "outputs": [
    {
     "name": "stdout",
     "output_type": "stream",
     "text": [
      "[[1 2]\n",
      " [3 4]]\n",
      "[3 4]\n",
      "[2 4]\n"
     ]
    }
   ],
   "source": [
    "'''\n",
    "Define un array s2 multidimensional de tamaño 2x2 y selecciona el valor de la segunda fila y la segunda columna\n",
    "'''\n",
    "s2 = np.array([[1,2],[3,4]])\n",
    "print(s2)\n",
    "print(s2[1,:])\n",
    "print(s2[:,1])\n"
   ]
  },
  {
   "cell_type": "code",
   "execution_count": null,
   "metadata": {},
   "outputs": [
    {
     "name": "stdout",
     "output_type": "stream",
     "text": [
      "[[[1 2]\n",
      "  [3 4]]\n",
      "\n",
      " [[5 6]\n",
      "  [7 8]]]\n",
      "6\n"
     ]
    }
   ],
   "source": [
    "'''\n",
    "Define el array:\n",
    "[\n",
    "[[1, 2], [3, 4]]\n",
    "[[5, 6], [7, 8]]\n",
    "]\n",
    "y selecciona el valor de la segunda dimension, primera fila, segunda columna\n",
    "'''\n",
    "s2 = np.array([\n",
    "[[1, 2], [3, 4]],\n",
    "[[5, 6], [7, 8]]\n",
    "])\n",
    "print(s2)\n",
    "\n",
    "print(s2[1,0,1])\n"
   ]
  },
  {
   "cell_type": "code",
   "execution_count": null,
   "metadata": {},
   "outputs": [
    {
     "name": "stdout",
     "output_type": "stream",
     "text": [
      "(4, 4, 3)\n",
      "[[[ 1 99  3]\n",
      "  [ 4 99  6]\n",
      "  [ 7 99  9]\n",
      "  [10 99 12]]\n",
      "\n",
      " [[20 99 22]\n",
      "  [23 99 25]\n",
      "  [26 99 28]\n",
      "  [29 99 31]]\n",
      "\n",
      " [[32 99 34]\n",
      "  [35 99 37]\n",
      "  [38 99 40]\n",
      "  [41 99 43]]\n",
      "\n",
      " [[60 99 62]\n",
      "  [63 99 65]\n",
      "  [66 99 68]\n",
      "  [69 99 71]]]\n"
     ]
    }
   ],
   "source": [
    "'''\n",
    "Define un array s4 de tamaño 4x4x3 y establece los números centrales a 99\n",
    "'''\n",
    "s4 = np.array([\n",
    "[[1,2,3],[4,5,6],[7,8,9],[10,11,12]],\n",
    "[[20,21,22],[23,24,25],[26,27,28],[29,30,31]],\n",
    "[[32,33,34],[35,36,37],[38,39,40], [41,42,43]],\n",
    "[[60,61,62],[63,64,65],[66,67,68],[69,70,71]]\n",
    "\n",
    "])\n",
    "\n",
    "print(s4.shape)\n",
    "\n",
    "s4[:,:,1] = 99\n",
    "print(s4)"
   ]
  },
  {
   "cell_type": "code",
   "execution_count": null,
   "metadata": {},
   "outputs": [
    {
     "name": "stdout",
     "output_type": "stream",
     "text": [
      "[[[ 1  2  3]\n",
      "  [ 4  0  6]\n",
      "  [ 7  1  9]\n",
      "  [10 11 12]]\n",
      "\n",
      " [[20 21 22]\n",
      "  [23  2 25]\n",
      "  [26  3 28]\n",
      "  [29 30 31]]\n",
      "\n",
      " [[32 33 34]\n",
      "  [35  4 37]\n",
      "  [38  5 40]\n",
      "  [41 42 43]]\n",
      "\n",
      " [[60 61 62]\n",
      "  [63  6 65]\n",
      "  [66  7 68]\n",
      "  [69 70 71]]]\n"
     ]
    }
   ],
   "source": [
    "'''\n",
    "Define un array s4 de tamaño 4x4x3 y establece los números centrales a (0,1), (2,3), (4,5), (6,7)\n",
    "'''\n",
    "s4 = np.array([\n",
    "[[1,2,3],[4,5,6],[7,8,9],[10,11,12]], # matriz 0\n",
    "[[20,21,22],[23,24,25],[26,27,28],[29,30,31]], #matriz 1\n",
    "[[32,33,34],[35,36,37],[38,39,40], [41,42,43]], # matriz 2\n",
    "[[60,61,62],[63,64,65],[66,67,68],[69,70,71]] # matriz 3\n",
    "\n",
    "])\n",
    "\n",
    "s4[0,1:3,1] = (0,1) # [matriz 0, fila 1 (= 4,5,6) : 3?, columna 1]\n",
    "s4[1,1:3,1] = (2,3)\n",
    "s4[2,1:3,1] = (4,5)\n",
    "s4[3,1:3,1] = (6,7)\n",
    "#s4[0,:,1] = [0,1,2,3]\n",
    "#s4[1,:,1] = [4,5,6,7]\n",
    "#s4[2,:,1] = [0,1,2,3]\n",
    "#s4[3,:,1] = [4,5,6,7]\n",
    "print(s4)"
   ]
  },
  {
   "cell_type": "markdown",
   "metadata": {},
   "source": [
    "## Inicializando diferentes tipos de arrays"
   ]
  },
  {
   "cell_type": "markdown",
   "metadata": {},
   "source": [
    "Matriz de ceros"
   ]
  },
  {
   "cell_type": "code",
   "execution_count": null,
   "metadata": {},
   "outputs": [
    {
     "data": {
      "text/plain": [
       "array([[0., 0., 0.],\n",
       "       [0., 0., 0.],\n",
       "       [0., 0., 0.],\n",
       "       [0., 0., 0.],\n",
       "       [0., 0., 0.]])"
      ]
     },
     "execution_count": 50,
     "metadata": {},
     "output_type": "execute_result"
    }
   ],
   "source": [
    "# Definir una matriz completa de 0 de tamaño 5x3\n",
    "np.zeros((5,3)) #una tupla"
   ]
  },
  {
   "cell_type": "code",
   "execution_count": null,
   "metadata": {},
   "outputs": [
    {
     "data": {
      "text/plain": [
       "array([[0, 0, 0],\n",
       "       [0, 0, 0],\n",
       "       [0, 0, 0],\n",
       "       [0, 0, 0],\n",
       "       [0, 0, 0]])"
      ]
     },
     "execution_count": 51,
     "metadata": {},
     "output_type": "execute_result"
    }
   ],
   "source": [
    "# Definir una matriz completa de 0 de tipo int32 de tamaño 5x3\n",
    "np.zeros((5,3), dtype=np.int32) "
   ]
  },
  {
   "cell_type": "code",
   "execution_count": null,
   "metadata": {},
   "outputs": [
    {
     "data": {
      "text/plain": [
       "array([[[0., 0., 0., 0.],\n",
       "        [0., 0., 0., 0.],\n",
       "        [0., 0., 0., 0.]],\n",
       "\n",
       "       [[0., 0., 0., 0.],\n",
       "        [0., 0., 0., 0.],\n",
       "        [0., 0., 0., 0.]]])"
      ]
     },
     "execution_count": 52,
     "metadata": {},
     "output_type": "execute_result"
    }
   ],
   "source": [
    "# POdemos generar una matriz  de zeros con una shape(2,3,4)\n",
    "np.zeros((2,3,4)) # una tupla"
   ]
  },
  {
   "cell_type": "code",
   "execution_count": null,
   "metadata": {},
   "outputs": [
    {
     "name": "stdout",
     "output_type": "stream",
     "text": [
      "[[ 1  2  3]\n",
      " [ 4  5  6]\n",
      " [ 7  8  9]\n",
      " [10 11 12]\n",
      " [13 14 15]]\n",
      "int32\n",
      "[[0. 0. 0.]\n",
      " [0. 0. 0.]\n",
      " [0. 0. 0.]\n",
      " [0. 0. 0.]\n",
      " [0. 0. 0.]]\n",
      "[[0 0 0]\n",
      " [0 0 0]\n",
      " [0 0 0]\n",
      " [0 0 0]\n",
      " [0 0 0]]\n"
     ]
    }
   ],
   "source": [
    "# Definir una matriz de tamaño 5x3\n",
    "l = np.array([[1,2,3],[4,5,6],[7,8,9],[10,11,12],[13,14,15]])\n",
    "print(l)\n",
    "print(l.dtype)\n",
    "#Definir una matriz de 0 del shape de l\n",
    "print(np.zeros(l.shape))\n",
    "# Otra forma de hacerlo es con la función zeros_like. Esta respeta el tipo de dato de la matriz original\n",
    "print(np.zeros_like(l)) #int32\n"
   ]
  },
  {
   "cell_type": "markdown",
   "metadata": {},
   "source": [
    "Matriz de unos"
   ]
  },
  {
   "cell_type": "code",
   "execution_count": null,
   "metadata": {},
   "outputs": [
    {
     "data": {
      "text/plain": [
       "array([[1., 1., 1.],\n",
       "       [1., 1., 1.],\n",
       "       [1., 1., 1.],\n",
       "       [1., 1., 1.],\n",
       "       [1., 1., 1.]])"
      ]
     },
     "execution_count": 54,
     "metadata": {},
     "output_type": "execute_result"
    }
   ],
   "source": [
    "# Definir una matriz de 1 de tamaño 5x3\n",
    "np.ones((5,3))"
   ]
  },
  {
   "cell_type": "code",
   "execution_count": null,
   "metadata": {},
   "outputs": [
    {
     "data": {
      "text/plain": [
       "array([[1, 1, 1],\n",
       "       [1, 1, 1],\n",
       "       [1, 1, 1],\n",
       "       [1, 1, 1],\n",
       "       [1, 1, 1]])"
      ]
     },
     "execution_count": 55,
     "metadata": {},
     "output_type": "execute_result"
    }
   ],
   "source": [
    "# Definir una matriz de 1 de tamaño 5x3 de tipo int32\n",
    "np.ones((5,3), dtype=np.int32)"
   ]
  },
  {
   "cell_type": "markdown",
   "metadata": {},
   "source": [
    "Matriz de valores concretos"
   ]
  },
  {
   "cell_type": "code",
   "execution_count": null,
   "metadata": {},
   "outputs": [
    {
     "data": {
      "text/plain": [
       "array([[50, 50, 50],\n",
       "       [50, 50, 50],\n",
       "       [50, 50, 50],\n",
       "       [50, 50, 50],\n",
       "       [50, 50, 50]])"
      ]
     },
     "execution_count": 56,
     "metadata": {},
     "output_type": "execute_result"
    }
   ],
   "source": [
    "# Define una matriz de tamaño 5x3 con valores = 50\n",
    "np.full((5,3), 50) # array 2d"
   ]
  },
  {
   "cell_type": "code",
   "execution_count": null,
   "metadata": {},
   "outputs": [],
   "source": [
    "# # Define una matriz de tamaño 5x3 con valores = 50 en punto flotante\n",
    "np.full((5,3), 50, dtype = np.float32)\n",
    "p = np.full((5,3), 50.) # con el punto ya sabe que es un decimal"
   ]
  },
  {
   "cell_type": "markdown",
   "metadata": {},
   "source": [
    "Matriz de valores concretos (full like)"
   ]
  },
  {
   "cell_type": "code",
   "execution_count": null,
   "metadata": {},
   "outputs": [
    {
     "data": {
      "text/plain": [
       "array([[75., 75., 75.],\n",
       "       [75., 75., 75.],\n",
       "       [75., 75., 75.],\n",
       "       [75., 75., 75.],\n",
       "       [75., 75., 75.]])"
      ]
     },
     "execution_count": 58,
     "metadata": {},
     "output_type": "execute_result"
    }
   ],
   "source": [
    "# Define una matriz como p (la matriz anterior)pero con valores = 75\n",
    "np.full_like(p,75)"
   ]
  },
  {
   "cell_type": "markdown",
   "metadata": {},
   "source": [
    "Matriz de números aleatorios"
   ]
  },
  {
   "cell_type": "code",
   "execution_count": null,
   "metadata": {},
   "outputs": [
    {
     "data": {
      "text/plain": [
       "array([[0.77274365, 0.87355778, 0.49366043],\n",
       "       [0.8106853 , 0.03870885, 0.91754293],\n",
       "       [0.20725808, 0.26945145, 0.88431275],\n",
       "       [0.65955655, 0.48823386, 0.9297519 ],\n",
       "       [0.61481935, 0.70306999, 0.11168817]])"
      ]
     },
     "execution_count": 59,
     "metadata": {},
     "output_type": "execute_result"
    }
   ],
   "source": [
    "# Atención!  Cuando creamos una matriz de numeros aleatorios no se pasa\n",
    "# el shape por parametro como hemos hecho con los ceros o los ones\n",
    "\n",
    "# Define una matriz de tamaño 5x3 con valores aleaorios\n",
    "np.random.rand(5,3) # no es una tupla, son filas y columnas"
   ]
  },
  {
   "cell_type": "code",
   "execution_count": null,
   "metadata": {},
   "outputs": [
    {
     "data": {
      "text/plain": [
       "array([[27, 49, 50],\n",
       "       [35, 55, 28],\n",
       "       [52, 69, 36],\n",
       "       [75, 31, 89],\n",
       "       [15, 21, 77]])"
      ]
     },
     "execution_count": 60,
     "metadata": {},
     "output_type": "execute_result"
    }
   ],
   "source": [
    "# Definir una matriz de 5x3 con valores comprendidos entre 0 y 100\n",
    "np.random.randint(0,100, (5,3)) # np.random.randint(0,100, size= (5,3))"
   ]
  },
  {
   "cell_type": "code",
   "execution_count": null,
   "metadata": {},
   "outputs": [
    {
     "data": {
      "text/plain": [
       "array([[127, 130, 141],\n",
       "       [183, 118, 116],\n",
       "       [103, 158, 104],\n",
       "       [157, 197, 193],\n",
       "       [114, 197, 113]])"
      ]
     },
     "execution_count": 61,
     "metadata": {},
     "output_type": "execute_result"
    }
   ],
   "source": [
    "# Definir una matriz de 5x3 con valores comprendidos entre 100 y 200\n",
    "np.random.randint(100,200, size=(5,3))"
   ]
  },
  {
   "cell_type": "code",
   "execution_count": null,
   "metadata": {},
   "outputs": [
    {
     "data": {
      "text/plain": [
       "array([[77.51102662, 18.05691681, 53.71227045],\n",
       "       [83.53961349, 72.55387436,  5.2435676 ],\n",
       "       [ 5.92097806, 65.68641219, 49.68704651],\n",
       "       [44.35149078, 78.07345753, 81.03826982],\n",
       "       [47.63760508, 64.64914108, 87.81128241]])"
      ]
     },
     "execution_count": 62,
     "metadata": {},
     "output_type": "execute_result"
    }
   ],
   "source": [
    "# Definir una matriz de 5x3 con valores al azar mayores que 1\n",
    "np.random.rand(5,3)* 100\n"
   ]
  },
  {
   "cell_type": "markdown",
   "metadata": {},
   "source": [
    "Matriz identidad"
   ]
  },
  {
   "cell_type": "code",
   "execution_count": null,
   "metadata": {},
   "outputs": [
    {
     "data": {
      "text/plain": [
       "array([[1., 0., 0., 0., 0.],\n",
       "       [0., 1., 0., 0., 0.],\n",
       "       [0., 0., 1., 0., 0.],\n",
       "       [0., 0., 0., 1., 0.],\n",
       "       [0., 0., 0., 0., 1.]])"
      ]
     },
     "execution_count": 63,
     "metadata": {},
     "output_type": "execute_result"
    }
   ],
   "source": [
    "# Define la matriz identidad de tamaño 5x5\n",
    "np.eye(5) # solo pasamos 1 parametro, pq tiene ser cuadrada "
   ]
  },
  {
   "cell_type": "code",
   "execution_count": null,
   "metadata": {},
   "outputs": [
    {
     "name": "stdout",
     "output_type": "stream",
     "text": [
      "[[1. 0. 0. 0. 0.]\n",
      " [0. 1. 0. 0. 0.]\n",
      " [0. 0. 1. 0. 0.]\n",
      " [0. 0. 0. 1. 0.]\n",
      " [0. 0. 0. 0. 1.]]\n"
     ]
    }
   ],
   "source": [
    "# La matriz identidad se puede definir con la función 'identity'A\n",
    "print(np.identity(5))"
   ]
  },
  {
   "cell_type": "markdown",
   "metadata": {},
   "source": [
    "Ejercicios"
   ]
  },
  {
   "cell_type": "code",
   "execution_count": null,
   "metadata": {},
   "outputs": [
    {
     "name": "stdout",
     "output_type": "stream",
     "text": [
      "[[0. 0. 0. 0. 0.]]\n"
     ]
    }
   ],
   "source": [
    "'''\n",
    "Define el array z de dim 1 completo de ceros\n",
    "'''\n",
    "z = np.zeros((1,5))\n",
    "print(z)"
   ]
  },
  {
   "cell_type": "code",
   "execution_count": null,
   "metadata": {},
   "outputs": [
    {
     "name": "stdout",
     "output_type": "stream",
     "text": [
      "[[0. 0. 0. 0. 0. 0. 0. 0.]\n",
      " [0. 0. 0. 0. 0. 0. 0. 0.]\n",
      " [0. 0. 0. 0. 0. 0. 0. 0.]\n",
      " [0. 0. 0. 0. 0. 0. 0. 0.]\n",
      " [0. 0. 0. 0. 0. 0. 0. 0.]\n",
      " [0. 0. 0. 0. 0. 0. 0. 0.]\n",
      " [0. 0. 0. 0. 0. 0. 0. 0.]\n",
      " [0. 0. 0. 0. 0. 0. 0. 0.]]\n"
     ]
    }
   ],
   "source": [
    "'''\n",
    "Define un array z de dim 8x8 completo de ceros\n",
    "'''\n",
    "z = np.zeros((8,8))\n",
    "print(z)"
   ]
  },
  {
   "cell_type": "code",
   "execution_count": null,
   "metadata": {},
   "outputs": [
    {
     "name": "stdout",
     "output_type": "stream",
     "text": [
      "2\n"
     ]
    }
   ],
   "source": [
    "'''\n",
    "Define el array 'z' completo de ceros de n dim\n",
    "'''\n",
    "print(z.ndim)"
   ]
  },
  {
   "cell_type": "code",
   "execution_count": null,
   "metadata": {},
   "outputs": [
    {
     "name": "stdout",
     "output_type": "stream",
     "text": [
      "[[1. 1. 1. 1. 1. 1. 1. 1.]\n",
      " [1. 1. 1. 1. 1. 1. 1. 1.]\n",
      " [1. 1. 1. 1. 1. 1. 1. 1.]\n",
      " [1. 1. 1. 1. 1. 1. 1. 1.]\n",
      " [1. 1. 1. 1. 1. 1. 1. 1.]\n",
      " [1. 1. 1. 1. 1. 1. 1. 1.]\n",
      " [1. 1. 1. 1. 1. 1. 1. 1.]\n",
      " [1. 1. 1. 1. 1. 1. 1. 1.]]\n",
      "2\n"
     ]
    }
   ],
   "source": [
    "'''\n",
    "Define el array 'd' completo de unos de n dim\n",
    "'''\n",
    "d = np.ones((8,8))\n",
    "print(d)\n",
    "print(d.ndim)"
   ]
  },
  {
   "cell_type": "code",
   "execution_count": null,
   "metadata": {},
   "outputs": [
    {
     "name": "stdout",
     "output_type": "stream",
     "text": [
      "[[0. 0. 0. 0. 0. 0. 0.]\n",
      " [0. 1. 1. 1. 1. 1. 0.]\n",
      " [0. 1. 1. 1. 1. 1. 0.]\n",
      " [0. 1. 1. 1. 1. 1. 0.]\n",
      " [0. 1. 1. 1. 1. 1. 0.]\n",
      " [0. 1. 1. 1. 1. 1. 0.]\n",
      " [0. 0. 0. 0. 0. 0. 0.]]\n"
     ]
    }
   ],
   "source": [
    "'''\n",
    "Define un array como el que se muestra a continuación:\n",
    "[[0. 0. 0. 0. 0. 0. 0. 0.]\n",
    " [0. 1. 1. 1. 1. 1. 1. 0.]\n",
    " [0. 1. 1. 1. 1. 1. 1. 0.]\n",
    " [0. 1. 1. 1. 1. 1. 1. 0.]\n",
    " [0. 1. 1. 1. 1. 1. 1. 0.]\n",
    " [0. 1. 1. 1. 1. 1. 1. 0.]\n",
    " [0. 1. 1. 1. 1. 1. 1. 0.]\n",
    " [0. 0. 0. 0. 0. 0. 0. 0.]]\n",
    "'''\n",
    "\n",
    "a = np.zeros((7,7))\n",
    "a[1:-1,1:-1] = 1\n",
    "print(a)"
   ]
  },
  {
   "cell_type": "code",
   "execution_count": null,
   "metadata": {},
   "outputs": [
    {
     "name": "stdout",
     "output_type": "stream",
     "text": [
      "[[0 1 2 3 4]\n",
      " [5 6 7 8 9]]\n"
     ]
    }
   ],
   "source": [
    "'''\n",
    "Define un array 'g' conun range de 0 a 10 de dim 2\n",
    "'''\n",
    "g = np.arange(0,10).reshape(2,5)\n",
    "print(g)"
   ]
  },
  {
   "cell_type": "code",
   "execution_count": null,
   "metadata": {},
   "outputs": [
    {
     "name": "stdout",
     "output_type": "stream",
     "text": [
      "[[[ 0  1  2  3  4]\n",
      "  [ 5  6  7  8  9]\n",
      "  [10 11 12 13 14]\n",
      "  [15 16 17 18 19]\n",
      "  [20 21 22 23 24]\n",
      "  [25 26 27 28 29]\n",
      "  [30 31 32 33 34]\n",
      "  [35 36 37 38 39]\n",
      "  [40 41 42 43 44]\n",
      "  [45 46 47 48 49]]\n",
      "\n",
      " [[50 51 52 53 54]\n",
      "  [55 56 57 58 59]\n",
      "  [60 61 62 63 64]\n",
      "  [65 66 67 68 69]\n",
      "  [70 71 72 73 74]\n",
      "  [75 76 77 78 79]\n",
      "  [80 81 82 83 84]\n",
      "  [85 86 87 88 89]\n",
      "  [90 91 92 93 94]\n",
      "  [95 96 97 98 99]]]\n"
     ]
    }
   ],
   "source": [
    "'''\n",
    "Define un array 'h' con un range de 0 a 100 con un paso de 5 y una dim difrente de 1\n",
    "'''\n",
    "h = np.arange(0,100).reshape(2,10,5)\n",
    "print(h)"
   ]
  },
  {
   "cell_type": "markdown",
   "metadata": {},
   "source": [
    "## Operaciones con arrays"
   ]
  },
  {
   "cell_type": "markdown",
   "metadata": {},
   "source": [
    "operaciones básicas"
   ]
  },
  {
   "cell_type": "code",
   "execution_count": null,
   "metadata": {},
   "outputs": [
    {
     "name": "stdout",
     "output_type": "stream",
     "text": [
      "[1 2 3 4 5]\n"
     ]
    }
   ],
   "source": [
    "a = np.array([1, 2, 3, 4, 5])\n",
    "print(a)"
   ]
  },
  {
   "cell_type": "code",
   "execution_count": null,
   "metadata": {},
   "outputs": [
    {
     "name": "stdout",
     "output_type": "stream",
     "text": [
      "[3 4 5 6 7]\n"
     ]
    }
   ],
   "source": [
    "# Suma\n",
    "print(a + 2)"
   ]
  },
  {
   "cell_type": "code",
   "execution_count": null,
   "metadata": {},
   "outputs": [
    {
     "name": "stdout",
     "output_type": "stream",
     "text": [
      "[-1  0  1  2  3]\n"
     ]
    }
   ],
   "source": [
    "# Resta\n",
    "print(a - 2)"
   ]
  },
  {
   "cell_type": "code",
   "execution_count": null,
   "metadata": {},
   "outputs": [
    {
     "name": "stdout",
     "output_type": "stream",
     "text": [
      "[ 2  4  6  8 10]\n"
     ]
    }
   ],
   "source": [
    "# Multiplicar\n",
    "print(a*2)"
   ]
  },
  {
   "cell_type": "code",
   "execution_count": null,
   "metadata": {},
   "outputs": [
    {
     "name": "stdout",
     "output_type": "stream",
     "text": [
      "[0.5 1.  1.5 2.  2.5]\n"
     ]
    }
   ],
   "source": [
    "# Division\n",
    "print(a/2)"
   ]
  },
  {
   "cell_type": "code",
   "execution_count": null,
   "metadata": {},
   "outputs": [
    {
     "name": "stdout",
     "output_type": "stream",
     "text": [
      "[ 1  4  9 16 25]\n"
     ]
    }
   ],
   "source": [
    "# Exponeciación\n",
    "print(a **2)"
   ]
  },
  {
   "cell_type": "markdown",
   "metadata": {},
   "source": [
    "Las operaciones básicas con arrays o matrices son \"element wise\". Esto significa que se aplican a cada elemento de la matriz."
   ]
  },
  {
   "cell_type": "code",
   "execution_count": null,
   "metadata": {},
   "outputs": [
    {
     "name": "stdout",
     "output_type": "stream",
     "text": [
      "[10 20 30 40 50]\n"
     ]
    }
   ],
   "source": [
    "b = np.array([10, 20, 30, 40, 50])\n",
    "print(b)"
   ]
  },
  {
   "cell_type": "code",
   "execution_count": null,
   "metadata": {},
   "outputs": [
    {
     "name": "stdout",
     "output_type": "stream",
     "text": [
      "[11 22 33 44 55]\n"
     ]
    }
   ],
   "source": [
    "# Podemos sumar dos arrays porque son del mismo tamaño\n",
    "print(a + b)"
   ]
  },
  {
   "cell_type": "markdown",
   "metadata": {},
   "source": [
    "Ejercicios"
   ]
  },
  {
   "cell_type": "code",
   "execution_count": null,
   "metadata": {},
   "outputs": [
    {
     "name": "stdout",
     "output_type": "stream",
     "text": [
      "[ 4 98 89 88]\n",
      "[1. 1. 1. 1.]\n",
      "[ 5. 99. 90. 89.]\n"
     ]
    }
   ],
   "source": [
    "'''\n",
    "Define un array 'a' de tamaño 4 y un array 'b' de tamaño 4 completo de 1s. A contunuación suma los valores de ambos arrays y comprueba que los valores son correctos.\n",
    "'''\n",
    "a = np.random.randint(0,100, size=(4))\n",
    "print(a)\n",
    "b = np.ones((4))\n",
    "print(b)\n",
    "print(a+b)"
   ]
  },
  {
   "cell_type": "code",
   "execution_count": null,
   "metadata": {},
   "outputs": [
    {
     "name": "stdout",
     "output_type": "stream",
     "text": [
      "[80 42 86 78]\n",
      "[1. 1. 1. 1.]\n",
      "[79. 41. 85. 77.]\n"
     ]
    }
   ],
   "source": [
    "'''\n",
    "Define un array 'a' de tamaño 4 y un array 'b' de tamaño 4 completo de 1s. A contunuación resta los valores de ambos arrays y comprueba que los valores son correctos.\n",
    "'''\n",
    "a = np.random.randint(0,100, size=(4))\n",
    "print(a)\n",
    "b = np.ones((4))\n",
    "print(b)\n",
    "print(a-b)"
   ]
  },
  {
   "cell_type": "code",
   "execution_count": null,
   "metadata": {},
   "outputs": [
    {
     "name": "stdout",
     "output_type": "stream",
     "text": [
      "[19 62 42 46]\n",
      "[72 90 24  5]\n",
      "[1368 5580 1008  230]\n"
     ]
    }
   ],
   "source": [
    "'''\n",
    "Define un array 'a' de tamaño 4 y un array 'b' de tamaño 4 completo de 2s. A contunuación multiplica o divide los valores de ambos arrays y comprueba que los valores son correctos.\n",
    "'''\n",
    "a = np.random.randint(0,100, size=(4))\n",
    "print(a)\n",
    "b = np.random.randint(0,100, size=(4))\n",
    "print(b)\n",
    "print(a*b)"
   ]
  },
  {
   "cell_type": "markdown",
   "metadata": {},
   "source": [
    "Álgebra lineal"
   ]
  },
  {
   "cell_type": "markdown",
   "metadata": {},
   "source": [
    "numpy py permite realizar operaciones matriciales como por elemplo:\n",
    "- determinante: np.linalg.det()\n",
    "- inversa: np.linalg.inv()\n",
    "- producto matricial: np.dot()\n",
    "- diagonal: np.diag()\n",
    "- inversa de una matriz: np.linalg.inv()\n",
    "\n"
   ]
  },
  {
   "cell_type": "code",
   "execution_count": null,
   "metadata": {},
   "outputs": [
    {
     "name": "stdout",
     "output_type": "stream",
     "text": [
      "[[9 7 0]\n",
      " [2 9 4]]\n"
     ]
    }
   ],
   "source": [
    "#determinante: para saber si dos matrices son iguales\n",
    "#Definir una matriz de 2x3 con valores aleatorios entre 0 y 10\n",
    "a = np.random.randint(0,10, size=(2,3))\n",
    "print(a)"
   ]
  },
  {
   "cell_type": "code",
   "execution_count": null,
   "metadata": {},
   "outputs": [
    {
     "name": "stdout",
     "output_type": "stream",
     "text": [
      "[[3 3]\n",
      " [4 0]\n",
      " [9 3]]\n"
     ]
    }
   ],
   "source": [
    "b = np.random.randint(0,10, size=(3,2))\n",
    "print(b)"
   ]
  },
  {
   "cell_type": "code",
   "execution_count": null,
   "metadata": {},
   "outputs": [
    {
     "ename": "ValueError",
     "evalue": "operands could not be broadcast together with shapes (2,3) (3,2) ",
     "output_type": "error",
     "traceback": [
      "\u001b[1;31m---------------------------------------------------------------------------\u001b[0m",
      "\u001b[1;31mValueError\u001b[0m                                Traceback (most recent call last)",
      "Cell \u001b[1;32mIn [85], line 2\u001b[0m\n\u001b[0;32m      1\u001b[0m \u001b[39m# esto va a dar error porque va a tratar de hacer la operación element wise\u001b[39;00m\n\u001b[1;32m----> 2\u001b[0m \u001b[39mprint\u001b[39m(a\u001b[39m*\u001b[39mb)\n",
      "\u001b[1;31mValueError\u001b[0m: operands could not be broadcast together with shapes (2,3) (3,2) "
     ]
    }
   ],
   "source": [
    "# esto va a dar error porque va a tratar de hacer la operación element wise\n",
    "print(a*b)"
   ]
  },
  {
   "cell_type": "code",
   "execution_count": null,
   "metadata": {},
   "outputs": [
    {
     "name": "stdout",
     "output_type": "stream",
     "text": [
      "[[30  5]\n",
      " [78  6]]\n"
     ]
    }
   ],
   "source": [
    "# Para realizar la multiplicación matemática de matrices debemos usar la función 'dot' o 'matmul'\n",
    "producto = np.dot(a,b)\n",
    "print(producto)"
   ]
  },
  {
   "cell_type": "code",
   "execution_count": null,
   "metadata": {},
   "outputs": [
    {
     "name": "stdout",
     "output_type": "stream",
     "text": [
      "[[30  5]\n",
      " [78  6]]\n"
     ]
    }
   ],
   "source": [
    "producto = np.matmul(a,b)\n",
    "print(producto)"
   ]
  },
  {
   "cell_type": "code",
   "execution_count": null,
   "metadata": {},
   "outputs": [
    {
     "name": "stdout",
     "output_type": "stream",
     "text": [
      "[[30  5]\n",
      " [78  6]]\n"
     ]
    }
   ],
   "source": [
    "producto = a @ b # igual que el dot y matmul (multiplicación matematica)\n",
    "print(producto)"
   ]
  },
  {
   "cell_type": "code",
   "execution_count": null,
   "metadata": {},
   "outputs": [
    {
     "name": "stdout",
     "output_type": "stream",
     "text": [
      "[[1. 0. 0.]\n",
      " [0. 1. 0.]\n",
      " [0. 0. 1.]]\n",
      "Determinante: 1.0\n"
     ]
    }
   ],
   "source": [
    "# Obtener el determinante de una matriz\n",
    "a = np.identity(3)\n",
    "print(a)\n",
    "\n",
    "print('Determinante:', np.linalg.det(a))"
   ]
  },
  {
   "cell_type": "code",
   "execution_count": null,
   "metadata": {},
   "outputs": [
    {
     "name": "stdout",
     "output_type": "stream",
     "text": [
      "[[0 6 9]\n",
      " [7 1 2]\n",
      " [7 6 5]]\n",
      "Determinante: 189.00000000000003\n"
     ]
    }
   ],
   "source": [
    "# Define una matriz 3x3 con valores aleatorios entre 0 y 10\n",
    "b = np.random.randint(0,10, size=(3,3))\n",
    "print(b)\n",
    "\n",
    "# Obtener el determinante de una matriz\n",
    "\n",
    "\n",
    "print('Determinante:', np.linalg.det(b))"
   ]
  },
  {
   "cell_type": "code",
   "execution_count": null,
   "metadata": {},
   "outputs": [
    {
     "name": "stdout",
     "output_type": "stream",
     "text": [
      "[[5 0 3]\n",
      " [8 7 3]\n",
      " [8 5 7]]\n",
      "Matriz inversa:\n",
      " [[ 0.27868852  0.12295082 -0.17213115]\n",
      " [-0.26229508  0.09016393  0.07377049]\n",
      " [-0.13114754 -0.20491803  0.28688525]]\n"
     ]
    }
   ],
   "source": [
    "# Matriz inversa\n",
    "# La matriz inversa de una matriz es igual a la matriz adjunta de su matriz traspuesta, \n",
    "# dividida por su determinante, siempre que este no sea cero.\n",
    "\n",
    "# # Define una matriz 3x3 con valores aleatorios entre 0 y 10\n",
    "c = np.random.randint(0,10, size=(3,3))\n",
    "print(c)\n",
    "\n",
    "# Obtener el determinante de una matriz\n",
    "inversa = np.linalg.inv(c)\n",
    "print('Matriz inversa:\\n', inversa)"
   ]
  },
  {
   "cell_type": "code",
   "execution_count": null,
   "metadata": {},
   "outputs": [
    {
     "name": "stdout",
     "output_type": "stream",
     "text": [
      "[[3 0 9 0 2]\n",
      " [8 7 7 7 7]\n",
      " [5 7 9 5 9]]\n"
     ]
    },
    {
     "data": {
      "text/plain": [
       "array([[3, 8, 5],\n",
       "       [0, 7, 7],\n",
       "       [9, 7, 9],\n",
       "       [0, 7, 5],\n",
       "       [2, 7, 9]])"
      ]
     },
     "execution_count": 121,
     "metadata": {},
     "output_type": "execute_result"
    }
   ],
   "source": [
    "# Matriz transpuesta\n",
    "#La matriz transpuesta de una matriz es otra matriz que se obtiene al intercambiar las filas por las columnas.\n",
    "d = np.random.randint(0,10, size = (3,5))\n",
    "print(d)\n",
    "# Obtener la matriz transpuesta\n",
    "np.transpose(d)"
   ]
  },
  {
   "cell_type": "markdown",
   "metadata": {},
   "source": [
    "Más tipos de operaciones con arrays:\n",
    "- **np.sum():** Suma de todos los elementos de un array\n",
    "- **np.mean():** Media de todos los elementos de un array\n",
    "- **np.std():** Desviación estándar de todos los elementos de un array\n",
    "- **np.var():** Varianza de todos los elementos de un array\n",
    "- **np.min():** Valor mínimo de todos los elementos de un array\n",
    "- **np.max():** Valor máximo de todos los elementos de un array\n",
    "- **np.argmin():** Indice del valor mínimo de un array\n",
    "- **np.argmax():** Indice del valor máximo de un array\n",
    "- **np.cumsum():** Sumatoria acumulada de un array\n",
    "- **np.cumprod():** Producto acumulado de un array\n",
    "- **np.flip():** Inversa de un array\n"
   ]
  },
  {
   "cell_type": "code",
   "execution_count": null,
   "metadata": {},
   "outputs": [
    {
     "name": "stdout",
     "output_type": "stream",
     "text": [
      "[[1 1 7]\n",
      " [2 6 7]\n",
      " [8 6 5]]\n"
     ]
    }
   ],
   "source": [
    "# Define una matriz de números aleatorios entre 0 y 10 de tamaño 3x3\n",
    "e = np.random.randint(0,10,size=(3,3))\n",
    "print(e)"
   ]
  },
  {
   "cell_type": "code",
   "execution_count": null,
   "metadata": {},
   "outputs": [
    {
     "name": "stdout",
     "output_type": "stream",
     "text": [
      "43\n"
     ]
    }
   ],
   "source": [
    "# Obtener el suma de todos los elementos de la matriz\n",
    "print(np.sum(e))"
   ]
  },
  {
   "cell_type": "code",
   "execution_count": null,
   "metadata": {},
   "outputs": [
    {
     "name": "stdout",
     "output_type": "stream",
     "text": [
      "4.777777777777778\n"
     ]
    }
   ],
   "source": [
    "# Obtener la media de todos los elementos de la matriz\n",
    "print(np.mean(e))"
   ]
  },
  {
   "cell_type": "code",
   "execution_count": null,
   "metadata": {},
   "outputs": [],
   "source": [
    "# Obtener el valor máximo de una matriz\n",
    "print(np.max(e))"
   ]
  },
  {
   "cell_type": "code",
   "execution_count": null,
   "metadata": {},
   "outputs": [],
   "source": [
    "# Obetener el valor mínimo de una matriz\n",
    "print(np.min(e))"
   ]
  },
  {
   "cell_type": "code",
   "execution_count": null,
   "metadata": {},
   "outputs": [],
   "source": [
    "# Obtener el valor máximo de cada fila\n",
    "print('máximo de cada fila:',np.max(e,axis=1))\n",
    "# Obtener el valor máximo de cada columna\n",
    "print('máximo de cada coluna:',np.max(e,axis=0))"
   ]
  },
  {
   "cell_type": "code",
   "execution_count": null,
   "metadata": {},
   "outputs": [],
   "source": [
    "# Obtener el valor máximo de e[1:3,1:3]\n",
    "print(e[1:3,1:3])\n",
    "print(np.max(e[1:3,1:3]))"
   ]
  },
  {
   "cell_type": "code",
   "execution_count": null,
   "metadata": {},
   "outputs": [],
   "source": [
    "# Obtener el sumatorio de cada fila\n",
    "print('Sumatorio de cada fila:',np.sum(e,axis=1))\n",
    "# Obtener el sumatorio de cada columna\n",
    "print('Sumatorio de cada coluna:',np.sum(e,axis=0))"
   ]
  },
  {
   "cell_type": "markdown",
   "metadata": {},
   "source": [
    "Ejercicios"
   ]
  },
  {
   "cell_type": "code",
   "execution_count": null,
   "metadata": {},
   "outputs": [],
   "source": [
    "import numpy as np"
   ]
  },
  {
   "cell_type": "code",
   "execution_count": null,
   "metadata": {},
   "outputs": [
    {
     "name": "stdout",
     "output_type": "stream",
     "text": [
      "[ 1  2  3  4  5  6  8  9 10]\n",
      "5.0\n"
     ]
    }
   ],
   "source": [
    "'''\n",
    "Calcula la mediana de un array\n",
    "'''\n",
    "a = np.array([1,2,3,4,5,6,8,9,10])\n",
    "print(a)\n",
    "\n",
    "median = np.median(a)\n",
    "print(median)"
   ]
  },
  {
   "cell_type": "code",
   "execution_count": null,
   "metadata": {},
   "outputs": [
    {
     "name": "stdout",
     "output_type": "stream",
     "text": [
      "[[43 75 16]\n",
      " [62 63 47]\n",
      " [57 38 16]]\n",
      "46.333333333333336\n"
     ]
    }
   ],
   "source": [
    "'''\n",
    "calcula la media de una matriz\n",
    "'''\n",
    "e = np.random.randint(0,100,size=(3,3))\n",
    "print(e)\n",
    "print(np.mean(e))\n"
   ]
  },
  {
   "cell_type": "markdown",
   "metadata": {},
   "source": [
    "# Reshape"
   ]
  },
  {
   "cell_type": "code",
   "execution_count": null,
   "metadata": {},
   "outputs": [],
   "source": [
    "matriz1 = np.array([[1, 2, 3], [4, 5, 6]])\n",
    "matriz1"
   ]
  },
  {
   "cell_type": "code",
   "execution_count": null,
   "metadata": {},
   "outputs": [],
   "source": [
    "matriz2 = matriz1.reshape(3, 2)\n",
    "matriz2"
   ]
  },
  {
   "cell_type": "code",
   "execution_count": null,
   "metadata": {},
   "outputs": [],
   "source": [
    "matriz3 = matriz1.reshape(1, 6)\n",
    "matriz3"
   ]
  },
  {
   "cell_type": "code",
   "execution_count": null,
   "metadata": {},
   "outputs": [],
   "source": [
    "# Ejemplo practico de reshape\n",
    "z = np.array([1, 2, 3, 4, 5, 6, 7, 8, 9, 10, 11, 12, 13, 14, 15, 16, 17, 18, 19, 20])\n",
    "print(z)\n",
    "print(z.shape)"
   ]
  },
  {
   "cell_type": "code",
   "execution_count": null,
   "metadata": {},
   "outputs": [],
   "source": [
    "# reshape a 2 dimensiones\n",
    "z = z.reshape(4, 5)\n",
    "print(z)"
   ]
  },
  {
   "cell_type": "code",
   "execution_count": null,
   "metadata": {},
   "outputs": [],
   "source": [
    "# reshape a 3 dimensiones\n",
    "z.reshape(2,5,2)"
   ]
  },
  {
   "cell_type": "markdown",
   "metadata": {},
   "source": [
    "#Ficheros"
   ]
  },
  {
   "cell_type": "code",
   "execution_count": null,
   "metadata": {},
   "outputs": [
    {
     "data": {
      "text/plain": [
       "array([[31, 49, 93, 22, 65, 91, 88, 50, 99],\n",
       "       [42, 63, 53, 12, 45, 89, 28, 57, 30],\n",
       "       [31, 16, 49, 52, 98, 75, 10, 70, 88],\n",
       "       [ 9, 96, 75, 98, 70, 98, 77, 49, 18],\n",
       "       [40,  7, 30, 50, 95, 24, 75, 28, 43],\n",
       "       [22, 65, 50, 87, 27, 26, 38, 82, 29],\n",
       "       [49, 88, 89, 40, 58,  3, 87, 75, 88],\n",
       "       [36, 53, 13, 79,  0, 24, 23, 79, 38]])"
      ]
     },
     "execution_count": 7,
     "metadata": {},
     "output_type": "execute_result"
    }
   ],
   "source": [
    "# Crear un fichero\n",
    "data = np.random.randint(0,100, size = (8,9), dtype =np.int32)\n",
    "data"
   ]
  },
  {
   "cell_type": "code",
   "execution_count": null,
   "metadata": {},
   "outputs": [],
   "source": [
    "# Guarda el array data en un csv\n",
    "np.savetxt('file_data.csv', data, delimiter=';', fmt= '%d')"
   ]
  },
  {
   "cell_type": "code",
   "execution_count": null,
   "metadata": {},
   "outputs": [
    {
     "name": "stdout",
     "output_type": "stream",
     "text": [
      "[[31 49 93 22 65 91 88 50 99]\n",
      " [42 63 53 12 45 89 28 57 30]\n",
      " [31 16 49 52 98 75 10 70 88]\n",
      " [ 9 96 75 98 70 98 77 49 18]\n",
      " [40  7 30 50 95 24 75 28 43]\n",
      " [22 65 50 87 27 26 38 82 29]\n",
      " [49 88 89 40 58  3 87 75 88]\n",
      " [36 53 13 79  0 24 23 79 38]]\n"
     ]
    }
   ],
   "source": [
    "# Carga el contenido del csv en un array llamado file_data\n",
    "file_data = np.loadtxt('file_data.csv', delimiter=';', dtype=np.int32)\n",
    "print(file_data)"
   ]
  },
  {
   "cell_type": "markdown",
   "metadata": {},
   "source": [
    "#Mascaras Booleanas"
   ]
  },
  {
   "cell_type": "code",
   "execution_count": null,
   "metadata": {},
   "outputs": [
    {
     "name": "stdout",
     "output_type": "stream",
     "text": [
      "[[31 49 93 22 65 91 88 50 99]\n",
      " [42 63 53 12 45 89 28 57 30]\n",
      " [31 16 49 52 98 75 10 70 88]\n",
      " [ 9 96 75 98 70 98 77 49 18]\n",
      " [40  7 30 50 95 24 75 28 43]\n",
      " [22 65 50 87 27 26 38 82 29]\n",
      " [49 88 89 40 58  3 87 75 88]\n",
      " [36 53 13 79  0 24 23 79 38]]\n"
     ]
    }
   ],
   "source": [
    "print(file_data)"
   ]
  },
  {
   "cell_type": "code",
   "execution_count": null,
   "metadata": {},
   "outputs": [
    {
     "data": {
      "text/plain": [
       "array([[False, False,  True, False, False,  True,  True, False,  True],\n",
       "       [False, False, False, False, False,  True, False, False, False],\n",
       "       [False, False, False, False,  True, False, False, False,  True],\n",
       "       [False,  True, False,  True, False,  True,  True, False, False],\n",
       "       [False, False, False, False,  True, False, False, False, False],\n",
       "       [False, False, False,  True, False, False, False,  True, False],\n",
       "       [False,  True,  True, False, False, False,  True, False,  True],\n",
       "       [False, False, False,  True, False, False, False,  True, False]])"
      ]
     },
     "execution_count": 12,
     "metadata": {},
     "output_type": "execute_result"
    }
   ],
   "source": [
    "# Podemos generar una máscara booleana para filtrar los datos\n",
    "file_data > 75 # array nuevo con valores booleanos que elementos cumplen con la condición"
   ]
  },
  {
   "cell_type": "code",
   "execution_count": null,
   "metadata": {},
   "outputs": [
    {
     "name": "stdout",
     "output_type": "stream",
     "text": [
      "[93 91 88 99 89 98 88 96 98 98 77 95 87 82 88 89 87 88 79 79]\n"
     ]
    },
    {
     "data": {
      "text/plain": [
       "(20,)"
      ]
     },
     "execution_count": 14,
     "metadata": {},
     "output_type": "execute_result"
    }
   ],
   "source": [
    "# Esta máscara se puede aplicar a cualquier array\n",
    "resultado = file_data[file_data > 75] # nos extrae exclusivamente los datos mayores de 75\n",
    "print(resultado)\n",
    "resultado.shape"
   ]
  },
  {
   "cell_type": "code",
   "execution_count": null,
   "metadata": {},
   "outputs": [
    {
     "name": "stdout",
     "output_type": "stream",
     "text": [
      "[[False False  True False  True  True  True False  True]\n",
      " [False  True  True False False  True False  True False]\n",
      " [False False False  True  True  True False  True  True]\n",
      " [False  True  True  True  True  True  True False False]\n",
      " [False False False False  True False  True False False]\n",
      " [False  True False  True False False False  True False]\n",
      " [False  True  True False  True False  True  True  True]\n",
      " [False  True False  True False False False  True False]]\n"
     ]
    }
   ],
   "source": [
    "mayores_de_50 = file_data > 50 # esto ya es una mascara\n",
    "print(mayores_de_50)"
   ]
  },
  {
   "cell_type": "code",
   "execution_count": 4,
   "metadata": {},
   "outputs": [
    {
     "name": "stdout",
     "output_type": "stream",
     "text": [
      "[25 48  4 15 24 52]\n",
      "['Juan' 'Ana' 'Pedro' 'Luis' 'María' 'Pablo']\n",
      "[ True  True False False  True  True]\n",
      "['Juan' 'Ana' 'María' 'Pablo']\n"
     ]
    }
   ],
   "source": [
    "# Generar una lista de edades aleatorias\n",
    "edades = np.array([25,48,4,15,24,52])\n",
    "# Personas\n",
    "personas = np.array(['Juan', 'Ana', 'Pedro', 'Luis', 'María', 'Pablo'])\n",
    "print(edades)\n",
    "print(personas)\n",
    "\n",
    "# mayores de 18 años\n",
    "mayores_18 = edades > 18\n",
    "print(mayores_18)\n",
    "\n",
    "# Aplicar la máscara a la lista de personas\n",
    "personas_mayores_18 = personas[mayores_18]\n",
    "print(personas_mayores_18)"
   ]
  },
  {
   "cell_type": "code",
   "execution_count": null,
   "metadata": {},
   "outputs": [
    {
     "name": "stdout",
     "output_type": "stream",
     "text": [
      "True\n"
     ]
    }
   ],
   "source": [
    "# Tambien podemos ver si alguno de los elementos cumple con la condición\n",
    "print(np.any(file_data > 75))\n"
   ]
  },
  {
   "cell_type": "code",
   "execution_count": null,
   "metadata": {},
   "outputs": [
    {
     "data": {
      "text/plain": [
       "array([[49, 93, 22, 65, 91, 99],\n",
       "       [63, 53, 12, 45, 89, 30],\n",
       "       [16, 49, 52, 98, 75, 88],\n",
       "       [96, 75, 98, 70, 98, 18],\n",
       "       [ 7, 30, 50, 95, 24, 43],\n",
       "       [65, 50, 87, 27, 26, 29],\n",
       "       [88, 89, 40, 58,  3, 88],\n",
       "       [53, 13, 79,  0, 24, 38]])"
      ]
     },
     "execution_count": 27,
     "metadata": {},
     "output_type": "execute_result"
    }
   ],
   "source": [
    "# Any indicando el axis = 0 (en las columnas)\n",
    "\n",
    "# Devuelve un booleano de tamaño igual al número de columnas.\n",
    "column_mayor_que_80 = np.any(file_data > 80, axis = 0)# con axis es para recorrer las columnas # nos da un valor por columna\n",
    "\n",
    "column_mayor_que_90 = np.any(file_data > 90, axis = 0)\n",
    "\n",
    "\n",
    "file_data[:,column_mayor_que_80]\n",
    "file_data[:,column_mayor_que_90]"
   ]
  },
  {
   "cell_type": "code",
   "execution_count": null,
   "metadata": {},
   "outputs": [
    {
     "data": {
      "text/plain": [
       "array([[31, 49, 93, 22, 65, 91, 88, 50, 99],\n",
       "       [42, 63, 53, 12, 45, 89, 28, 57, 30],\n",
       "       [31, 16, 49, 52, 98, 75, 10, 70, 88],\n",
       "       [ 9, 96, 75, 98, 70, 98, 77, 49, 18],\n",
       "       [40,  7, 30, 50, 95, 24, 75, 28, 43],\n",
       "       [22, 65, 50, 87, 27, 26, 38, 82, 29],\n",
       "       [49, 88, 89, 40, 58,  3, 87, 75, 88]])"
      ]
     },
     "execution_count": 29,
     "metadata": {},
     "output_type": "execute_result"
    }
   ],
   "source": [
    "# Any indicando el axis= 1 (en las filas)\n",
    "# Devuelve un booleano de tamaño igual al numero de filas.\n",
    "\n",
    "filas_mayor_que_80 = np.any(file_data > 80, axis = 1)\n",
    "\n",
    "filas_mayor_que_90 = np.any(file_data > 90, axis = 1)\n",
    "\n",
    "\n",
    "file_data[filas_mayor_que_80,:]\n"
   ]
  },
  {
   "cell_type": "code",
   "execution_count": null,
   "metadata": {},
   "outputs": [
    {
     "data": {
      "text/plain": [
       "array([[49, 93, 22, 65, 91, 99],\n",
       "       [63, 53, 12, 45, 89, 30],\n",
       "       [16, 49, 52, 98, 75, 88],\n",
       "       [96, 75, 98, 70, 98, 18],\n",
       "       [ 7, 30, 50, 95, 24, 43],\n",
       "       [65, 50, 87, 27, 26, 29],\n",
       "       [88, 89, 40, 58,  3, 88]])"
      ]
     },
     "execution_count": 31,
     "metadata": {},
     "output_type": "execute_result"
    }
   ],
   "source": [
    "# Filtrar los datos de las filas que tengan valores mayores que 80\n",
    "f1 = file_data[filas_mayor_que_80,:]\n",
    "# sobre ese resultado filtrar las coluumnas que tengan valores mayores que 90\n",
    "col_mayores_que_90 = np.any(f1 > 90, axis= 0)\n",
    "f1[:,col_mayores_que_90]"
   ]
  },
  {
   "cell_type": "code",
   "execution_count": null,
   "metadata": {},
   "outputs": [
    {
     "name": "stdout",
     "output_type": "stream",
     "text": [
      "[ True  True  True  True  True  True  True  True]\n"
     ]
    },
    {
     "data": {
      "text/plain": [
       "array([[31, 49, 93, 22, 65, 91, 88, 50, 99],\n",
       "       [42, 63, 53, 12, 45, 89, 28, 57, 30],\n",
       "       [31, 16, 49, 52, 98, 75, 10, 70, 88],\n",
       "       [ 9, 96, 75, 98, 70, 98, 77, 49, 18],\n",
       "       [40,  7, 30, 50, 95, 24, 75, 28, 43],\n",
       "       [22, 65, 50, 87, 27, 26, 38, 82, 29],\n",
       "       [49, 88, 89, 40, 58,  3, 87, 75, 88],\n",
       "       [36, 53, 13, 79,  0, 24, 23, 79, 38]])"
      ]
     },
     "execution_count": 32,
     "metadata": {},
     "output_type": "execute_result"
    }
   ],
   "source": [
    "# Se pueden anidar estas funciones para acotar un dato por ejemplo\n",
    "mascara = np.any((file_data > 40) & (file_data < 60), axis= 1)\n",
    "print(mascara)\n",
    "\n",
    "#Seleccionar los datos que cumplen la condición\n",
    "file_data[mascara,:]"
   ]
  },
  {
   "cell_type": "code",
   "execution_count": 2,
   "metadata": {},
   "outputs": [
    {
     "name": "stdout",
     "output_type": "stream",
     "text": [
      "[[1884 7650 4866 8265 3520 6029 2362 9256 4384 8869 9981 9238]\n",
      " [7432 7735 9335 9529 2138 6364 3563 9132 5466 1005 6719 5789]\n",
      " [7337 4704 1938 3496 7476 8980 1872  294 4848 8078 6993 6342]\n",
      " [ 918 5502 2208 2810 1613 8719 5485 9090 1541 8760 5901 8727]\n",
      " [6695 6879 7245 9436 3557 5829 8351 4049 8257 8421 9424 7294]]\n"
     ]
    }
   ],
   "source": [
    "# Definimos una matriz en el que cada columna es un mes del año y cada fila es un departamento de mi empresa\n",
    "\n",
    "departamentos = np.array(['Ventas', 'Marketing', 'RRHH', 'Compras', 'Producción'])\n",
    "\n",
    "gastos = np.random.randint(0,10000,size=(5,12), dtype=np.int32)\n",
    "print(gastos)"
   ]
  },
  {
   "cell_type": "code",
   "execution_count": 3,
   "metadata": {},
   "outputs": [
    {
     "name": "stdout",
     "output_type": "stream",
     "text": [
      "['Marketing' 'RRHH' 'Producción']\n"
     ]
    }
   ],
   "source": [
    "# Conocer que departamentos gastan más de 5000€ en el mes de enero\n",
    "gastos[:,0] > 5000\n",
    "print(departamentos[gastos[:,0] > 5000])"
   ]
  }
 ],
 "metadata": {
  "kernelspec": {
   "display_name": "Python 3.10.8 64-bit (microsoft store)",
   "language": "python",
   "name": "python3"
  },
  "language_info": {
   "codemirror_mode": {
    "name": "ipython",
    "version": 3
   },
   "file_extension": ".py",
   "mimetype": "text/x-python",
   "name": "python",
   "nbconvert_exporter": "python",
   "pygments_lexer": "ipython3",
   "version": "3.10.8"
  },
  "vscode": {
   "interpreter": {
    "hash": "39211b9531568bf4f5638b4772d7c2a7975e54198fc4823c6c7527dfe61f0bd9"
   }
  }
 },
 "nbformat": 4,
 "nbformat_minor": 2
}
